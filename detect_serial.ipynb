{
 "cells": [
  {
   "cell_type": "code",
   "id": "initial_id",
   "metadata": {
    "collapsed": true,
    "ExecuteTime": {
     "end_time": "2024-07-26T07:25:59.859034Z",
     "start_time": "2024-07-26T07:25:59.815113Z"
    }
   },
   "source": [
    "import serial.tools.list_ports\n",
    "import serial\n",
    "import time"
   ],
   "outputs": [],
   "execution_count": 1
  },
  {
   "metadata": {
    "ExecuteTime": {
     "end_time": "2024-07-26T09:29:27.033312Z",
     "start_time": "2024-07-26T09:29:27.007388Z"
    }
   },
   "cell_type": "code",
   "source": [
    "ports = serial.tools.list_ports.comports()\n",
    "\n",
    "for port in ports:\n",
    "    print(f'Product ID: {port.pid}')\n",
    "    print(f'Vendor ID: {port.vid}')\n",
    "    print(f'Name: {port.name}')\n",
    "    print(f'Serial Number: {port.serial_number}')\n",
    "    print(f'Device Type: {port.device}')\n",
    "    print(f'Device Description: {port.description}')\n",
    "    print(f'Interface: {port.interface}')\n",
    "    print(f'HWID: {port.hwid}')\n",
    "    print(f'Location: {port.location}')\n",
    "    print(f'Manufacturer: {port.manufacturer}')\n",
    "    print(f'Product: {port.product}')\n",
    "    print('================================\\n')"
   ],
   "id": "e91cf289b278ead9",
   "outputs": [
    {
     "name": "stdout",
     "output_type": "stream",
     "text": [
      "Product ID: None\n",
      "Vendor ID: None\n",
      "Name: COM6\n",
      "Serial Number: None\n",
      "Device Type: COM6\n",
      "Device Description: Standard Serial over Bluetooth link (COM6)\n",
      "Interface: None\n",
      "HWID: BTHENUM\\{00001101-0000-1000-8000-00805F9B34FB}_LOCALMFG&0000\\8&2B013252&0&000000000000_00000000\n",
      "Location: None\n",
      "Manufacturer: Microsoft\n",
      "Product: None\n",
      "================================\n",
      "\n",
      "Product ID: None\n",
      "Vendor ID: None\n",
      "Name: COM7\n",
      "Serial Number: None\n",
      "Device Type: COM7\n",
      "Device Description: Standard Serial over Bluetooth link (COM7)\n",
      "Interface: None\n",
      "HWID: BTHENUM\\{00001101-0000-1000-8000-00805F9B34FB}_LOCALMFG&0046\\8&2B013252&0&30C01B950E4D_C00000000\n",
      "Location: None\n",
      "Manufacturer: Microsoft\n",
      "Product: None\n",
      "================================\n",
      "\n",
      "Product ID: None\n",
      "Vendor ID: None\n",
      "Name: COM1\n",
      "Serial Number: None\n",
      "Device Type: COM1\n",
      "Device Description: HHD Software Bridged Serial Port (COM1)\n",
      "Interface: None\n",
      "HWID: ROOT\\PORTS\\0000\n",
      "Location: None\n",
      "Manufacturer: HHD Software Ltd.\n",
      "Product: None\n",
      "================================\n",
      "\n",
      "Product ID: None\n",
      "Vendor ID: None\n",
      "Name: COM2\n",
      "Serial Number: None\n",
      "Device Type: COM2\n",
      "Device Description: HHD Software Bridged Serial Port (COM2)\n",
      "Interface: None\n",
      "HWID: ROOT\\PORTS\\0001\n",
      "Location: None\n",
      "Manufacturer: HHD Software Ltd.\n",
      "Product: None\n",
      "================================\n",
      "\n"
     ]
    }
   ],
   "execution_count": 5
  },
  {
   "metadata": {
    "ExecuteTime": {
     "end_time": "2024-07-23T03:25:17.192766Z",
     "start_time": "2024-07-23T03:25:17.180601Z"
    }
   },
   "cell_type": "code",
   "source": [
    "def checking_port(ser):\n",
    "    try:\n",
    "        if ser.is_open:\n",
    "            print('Serial port open')\n",
    "        else:\n",
    "            # waiting 5 seconds\n",
    "            print('Serial port closed')\n",
    "            print('Waiting 5 seconds')\n",
    "            time.sleep(5)\n",
    "            checking_port(ser)\n",
    "            \n",
    "    except Exception as e:\n",
    "        print(e)\n",
    "    finally:\n",
    "        checking_port(ser=ser)"
   ],
   "id": "9a1221c55f7f90a5",
   "outputs": [],
   "execution_count": 3
  },
  {
   "metadata": {
    "ExecuteTime": {
     "end_time": "2024-07-23T03:25:17.577439Z",
     "start_time": "2024-07-23T03:25:17.195808Z"
    }
   },
   "cell_type": "code",
   "source": [
    "# identified port from list_ports\n",
    "PORT = \"COM3\"\n",
    "# baudrate => 9600 / 115200 / 921600\n",
    "# BAUD_RATE = \n",
    "\n",
    "try:\n",
    "    # open the serial port\n",
    "    ser = serial.Serial(\n",
    "        port=PORT, \n",
    "        timeout=10\n",
    "    )\n",
    "    \n",
    "    checking_port(ser)\n",
    "    \n",
    "    # read data from the serial port\n",
    "    # data = ser.readline().decode().strip()\n",
    "    # print(f\"Received data: {data}\")\n",
    "    \n",
    "    # close the serial port\n",
    "    # ser.close()\n",
    "except Exception as e:\n",
    "    print(e)\n",
    "finally:\n",
    "    if ser is not None:\n",
    "        ser.close()\n",
    "\n",
    "print('Serial port closed')"
   ],
   "id": "f8c8ff76fadb18e8",
   "outputs": [
    {
     "name": "stdout",
     "output_type": "stream",
     "text": [
      "could not open port 'COM3': FileNotFoundError(2, 'The system cannot find the file specified.', None, 2)\n"
     ]
    },
    {
     "ename": "NameError",
     "evalue": "name 'ser' is not defined",
     "output_type": "error",
     "traceback": [
      "\u001B[1;31m---------------------------------------------------------------------------\u001B[0m",
      "\u001B[1;31mNameError\u001B[0m                                 Traceback (most recent call last)",
      "Cell \u001B[1;32mIn[4], line 24\u001B[0m\n\u001B[0;32m     22\u001B[0m     \u001B[38;5;28mprint\u001B[39m(e)\n\u001B[0;32m     23\u001B[0m \u001B[38;5;28;01mfinally\u001B[39;00m:\n\u001B[1;32m---> 24\u001B[0m     \u001B[38;5;28;01mif\u001B[39;00m \u001B[43mser\u001B[49m \u001B[38;5;129;01mis\u001B[39;00m \u001B[38;5;129;01mnot\u001B[39;00m \u001B[38;5;28;01mNone\u001B[39;00m:\n\u001B[0;32m     25\u001B[0m         ser\u001B[38;5;241m.\u001B[39mclose()\n\u001B[0;32m     27\u001B[0m \u001B[38;5;28mprint\u001B[39m(\u001B[38;5;124m'\u001B[39m\u001B[38;5;124mSerial port closed\u001B[39m\u001B[38;5;124m'\u001B[39m)\n",
      "\u001B[1;31mNameError\u001B[0m: name 'ser' is not defined"
     ]
    }
   ],
   "execution_count": 4
  },
  {
   "metadata": {
    "ExecuteTime": {
     "end_time": "2024-07-23T03:25:17.603366Z",
     "start_time": "2024-07-23T03:25:17.602365Z"
    }
   },
   "cell_type": "code",
   "source": "",
   "id": "c1a58a600a858196",
   "outputs": [],
   "execution_count": null
  }
 ],
 "metadata": {
  "kernelspec": {
   "display_name": "Python 3",
   "language": "python",
   "name": "python3"
  },
  "language_info": {
   "codemirror_mode": {
    "name": "ipython",
    "version": 2
   },
   "file_extension": ".py",
   "mimetype": "text/x-python",
   "name": "python",
   "nbconvert_exporter": "python",
   "pygments_lexer": "ipython2",
   "version": "2.7.6"
  }
 },
 "nbformat": 4,
 "nbformat_minor": 5
}
